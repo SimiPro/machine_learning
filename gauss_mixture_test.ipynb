{
 "cells": [
  {
   "cell_type": "code",
   "execution_count": 44,
   "metadata": {},
   "outputs": [
    {
     "data": {
      "image/png": "[encoded data removed]",
      "text/plain": [
       "<matplotlib.figure.Figure at 0x7f5d074475f8>"
      ]
     },
     "metadata": {},
     "output_type": "display_data"
    }
   ],
   "source": [
    "import matplotlib.pyplot as plt\n",
    "import numpy as np\n",
    "from scipy.stats import norm\n",
    "\n",
    "norm1 = norm(loc=0, scale=1)\n",
    "norm2 = norm(loc=0, scale=10)\n",
    "norm3 = norm(loc=-5, scale=5)\n",
    "\n",
    "x1 = np.linspace(norm1.ppf(0.01), norm1.ppf(0.99), 100)\n",
    "x2 = np.linspace(norm2.ppf(0.01), norm2.ppf(0.99), 100)\n",
    "x3 = np.linspace(norm3.ppf(0.01), norm3.ppf(0.99), 100)\n",
    "\n",
    "plt.plot(x1, norm1.pdf(x1),'g-', label='norm pdf1')\n",
    "plt.plot(x2, norm2.pdf(x2),'b-',label='norm pdf2')\n",
    "plt.plot(x3, norm3.pdf(x3),'r-', label='norm pdf3')\n",
    "\n",
    "p1 = norm1.rvs(size=10)\n",
    "p2 = norm2.rvs(size=10)\n",
    "p3 = norm3.rvs(size=10)\n",
    "\n",
    "X =np.concatenate((p1, p2, p3))\n",
    "\n",
    "val = 0\n",
    "zero_vec = np.zeros_like(p1)\n",
    "\n",
    "plt.plot(p1, zero_vec , 'gx')\n",
    "plt.plot(p2, zero_vec , 'bo')\n",
    "plt.plot(p3, zero_vec , 'rd')\n",
    "plt.show()"
   ]
  },
  {
   "cell_type": "code",
   "execution_count": 86,
   "metadata": {},
   "outputs": [
    {
     "name": "stdout",
     "output_type": "stream",
     "text": [
      "(3,)\n"
     ]
    },
    {
     "name": "stderr",
     "output_type": "stream",
     "text": [
      "/home/simipro/anaconda3/lib/python3.6/site-packages/ipykernel_launcher.py:13: DeprecationWarning: object of type <class 'float'> cannot be safely interpreted as an integer.\n",
      "  del sys.path[0]\n"
     ]
    },
    {
     "data": {
      "image/png": "[encoded data removed]",
      "text/plain": [
       "<matplotlib.figure.Figure at 0x7f5cf940df60>"
      ]
     },
     "metadata": {},
     "output_type": "display_data"
    },
    {
     "name": "stdout",
     "output_type": "stream",
     "text": [
      "means: [[-0.37130375]\n",
      " [-6.13773645]\n",
      " [ 4.08183927]]\n",
      "cov [[[  0.43472177]]\n",
      "\n",
      " [[ 10.45982107]]\n",
      "\n",
      " [[ 55.4064238 ]]]\n",
      "weighs [ 0.311503    0.20824413  0.48025287]\n"
     ]
    }
   ],
   "source": [
    "# prepare plot\n",
    "\n",
    "plt.plot(p1, zero_vec , 'gx')\n",
    "plt.plot(p2, zero_vec , 'bo')\n",
    "plt.plot(p3, zero_vec , 'rd')\n",
    "\n",
    "####\n",
    "\n",
    "\n",
    "from sklearn.mixture import GaussianMixture\n",
    "\n",
    "X = X.reshape(-1, 1)\n",
    "X_ = np.linspace(-25, 25, 50/0.01)\n",
    "X_ = X_.reshape(-1,1)\n",
    "\n",
    "print(np.array([0,0,-5], ndmin=1).shape)\n",
    "clf = GaussianMixture(3, means_init=np.array([0,0,-5]).reshape(-1,1))\n",
    "clf.fit(X)\n",
    "means = clf.means_\n",
    "cov = clf.covariances_\n",
    "weights = clf.weights_\n",
    "\n",
    "for i in range(len(means)):\n",
    "    curr_norm = norm(loc=means[i], scale=cov[i])\n",
    "    x2 = curr_norm.pdf(X_)\n",
    "    plt.plot(X_, x2)\n",
    "\n",
    "plt.show()\n",
    "print(\"means:\" , means)\n",
    "print(\"cov\", cov)\n",
    "print(\"weighs\", weights)\n",
    "\n"
   ]
  },
  {
   "cell_type": "code",
   "execution_count": null,
   "metadata": {
    "collapsed": true
   },
   "outputs": [],
   "source": []
  }
 ],
 "metadata": {
  "kernelspec": {
   "display_name": "Python 3",
   "language": "python",
   "name": "python3"
  },
  "language_info": {
   "codemirror_mode": {
    "name": "ipython",
    "version": 3
   },
   "file_extension": ".py",
   "mimetype": "text/x-python",
   "name": "python",
   "nbconvert_exporter": "python",
   "pygments_lexer": "ipython3",
   "version": "3.6.2"
  }
 },
 "nbformat": 4,
 "nbformat_minor": 2
}
